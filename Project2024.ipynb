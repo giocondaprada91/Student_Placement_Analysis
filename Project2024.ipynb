{
 "cells": [
  {
   "cell_type": "code",
   "execution_count": 2,
   "id": "349ee5fa-1fa7-4ada-ac15-27e09e2cfd37",
   "metadata": {},
   "outputs": [],
   "source": [
    "#Project\n",
    "\n",
    "import pandas as pd\n",
    "df = pd.read_csv(\"Placement.csv\")"
   ]
  },
  {
   "cell_type": "code",
   "execution_count": 3,
   "id": "70ee2363-70e0-4ce9-859f-936879016591",
   "metadata": {},
   "outputs": [
    {
     "data": {
      "text/html": [
       "<div>\n",
       "<style scoped>\n",
       "    .dataframe tbody tr th:only-of-type {\n",
       "        vertical-align: middle;\n",
       "    }\n",
       "\n",
       "    .dataframe tbody tr th {\n",
       "        vertical-align: top;\n",
       "    }\n",
       "\n",
       "    .dataframe thead th {\n",
       "        text-align: right;\n",
       "    }\n",
       "</style>\n",
       "<table border=\"1\" class=\"dataframe\">\n",
       "  <thead>\n",
       "    <tr style=\"text-align: right;\">\n",
       "      <th></th>\n",
       "      <th>sl_no</th>\n",
       "      <th>gender</th>\n",
       "      <th>ssc_p</th>\n",
       "      <th>ssc_b</th>\n",
       "      <th>hsc_p</th>\n",
       "      <th>hsc_b</th>\n",
       "      <th>hsc_s</th>\n",
       "      <th>degree_p</th>\n",
       "      <th>degree_t</th>\n",
       "      <th>workex</th>\n",
       "      <th>etest_p</th>\n",
       "      <th>specialisation</th>\n",
       "      <th>mba_p</th>\n",
       "      <th>salary</th>\n",
       "      <th>status</th>\n",
       "    </tr>\n",
       "  </thead>\n",
       "  <tbody>\n",
       "    <tr>\n",
       "      <th>0</th>\n",
       "      <td>1</td>\n",
       "      <td>M</td>\n",
       "      <td>67.00</td>\n",
       "      <td>Others</td>\n",
       "      <td>91.00</td>\n",
       "      <td>Others</td>\n",
       "      <td>Commerce</td>\n",
       "      <td>58.00</td>\n",
       "      <td>Sci&amp;Tech</td>\n",
       "      <td>No</td>\n",
       "      <td>55.00</td>\n",
       "      <td>Mkt&amp;HR</td>\n",
       "      <td>58.80</td>\n",
       "      <td>270000.0</td>\n",
       "      <td>Placed</td>\n",
       "    </tr>\n",
       "    <tr>\n",
       "      <th>1</th>\n",
       "      <td>2</td>\n",
       "      <td>M</td>\n",
       "      <td>79.33</td>\n",
       "      <td>Central</td>\n",
       "      <td>78.33</td>\n",
       "      <td>Others</td>\n",
       "      <td>Science</td>\n",
       "      <td>77.48</td>\n",
       "      <td>Sci&amp;Tech</td>\n",
       "      <td>Yes</td>\n",
       "      <td>86.50</td>\n",
       "      <td>Mkt&amp;Fin</td>\n",
       "      <td>66.28</td>\n",
       "      <td>200000.0</td>\n",
       "      <td>Placed</td>\n",
       "    </tr>\n",
       "    <tr>\n",
       "      <th>2</th>\n",
       "      <td>3</td>\n",
       "      <td>M</td>\n",
       "      <td>65.00</td>\n",
       "      <td>Central</td>\n",
       "      <td>68.00</td>\n",
       "      <td>Central</td>\n",
       "      <td>Arts</td>\n",
       "      <td>64.00</td>\n",
       "      <td>Comm&amp;Mgmt</td>\n",
       "      <td>No</td>\n",
       "      <td>75.00</td>\n",
       "      <td>Mkt&amp;Fin</td>\n",
       "      <td>57.80</td>\n",
       "      <td>250000.0</td>\n",
       "      <td>Placed</td>\n",
       "    </tr>\n",
       "    <tr>\n",
       "      <th>3</th>\n",
       "      <td>4</td>\n",
       "      <td>M</td>\n",
       "      <td>56.00</td>\n",
       "      <td>Central</td>\n",
       "      <td>52.00</td>\n",
       "      <td>Central</td>\n",
       "      <td>Science</td>\n",
       "      <td>52.00</td>\n",
       "      <td>Sci&amp;Tech</td>\n",
       "      <td>No</td>\n",
       "      <td>66.00</td>\n",
       "      <td>Mkt&amp;HR</td>\n",
       "      <td>59.43</td>\n",
       "      <td>NaN</td>\n",
       "      <td>Not Placed</td>\n",
       "    </tr>\n",
       "    <tr>\n",
       "      <th>4</th>\n",
       "      <td>5</td>\n",
       "      <td>M</td>\n",
       "      <td>85.80</td>\n",
       "      <td>Central</td>\n",
       "      <td>73.60</td>\n",
       "      <td>Central</td>\n",
       "      <td>Commerce</td>\n",
       "      <td>73.30</td>\n",
       "      <td>Comm&amp;Mgmt</td>\n",
       "      <td>No</td>\n",
       "      <td>96.80</td>\n",
       "      <td>Mkt&amp;Fin</td>\n",
       "      <td>55.50</td>\n",
       "      <td>425000.0</td>\n",
       "      <td>Placed</td>\n",
       "    </tr>\n",
       "    <tr>\n",
       "      <th>5</th>\n",
       "      <td>6</td>\n",
       "      <td>M</td>\n",
       "      <td>55.00</td>\n",
       "      <td>Others</td>\n",
       "      <td>49.80</td>\n",
       "      <td>Others</td>\n",
       "      <td>Science</td>\n",
       "      <td>67.25</td>\n",
       "      <td>Sci&amp;Tech</td>\n",
       "      <td>Yes</td>\n",
       "      <td>55.00</td>\n",
       "      <td>Mkt&amp;Fin</td>\n",
       "      <td>51.58</td>\n",
       "      <td>NaN</td>\n",
       "      <td>Not Placed</td>\n",
       "    </tr>\n",
       "    <tr>\n",
       "      <th>6</th>\n",
       "      <td>7</td>\n",
       "      <td>F</td>\n",
       "      <td>46.00</td>\n",
       "      <td>Others</td>\n",
       "      <td>49.20</td>\n",
       "      <td>Others</td>\n",
       "      <td>Commerce</td>\n",
       "      <td>79.00</td>\n",
       "      <td>Comm&amp;Mgmt</td>\n",
       "      <td>No</td>\n",
       "      <td>74.28</td>\n",
       "      <td>Mkt&amp;Fin</td>\n",
       "      <td>53.29</td>\n",
       "      <td>NaN</td>\n",
       "      <td>Not Placed</td>\n",
       "    </tr>\n",
       "    <tr>\n",
       "      <th>7</th>\n",
       "      <td>8</td>\n",
       "      <td>M</td>\n",
       "      <td>82.00</td>\n",
       "      <td>Central</td>\n",
       "      <td>64.00</td>\n",
       "      <td>Central</td>\n",
       "      <td>Science</td>\n",
       "      <td>66.00</td>\n",
       "      <td>Sci&amp;Tech</td>\n",
       "      <td>Yes</td>\n",
       "      <td>67.00</td>\n",
       "      <td>Mkt&amp;Fin</td>\n",
       "      <td>62.14</td>\n",
       "      <td>252000.0</td>\n",
       "      <td>Placed</td>\n",
       "    </tr>\n",
       "    <tr>\n",
       "      <th>8</th>\n",
       "      <td>9</td>\n",
       "      <td>M</td>\n",
       "      <td>73.00</td>\n",
       "      <td>Central</td>\n",
       "      <td>79.00</td>\n",
       "      <td>Central</td>\n",
       "      <td>Commerce</td>\n",
       "      <td>72.00</td>\n",
       "      <td>Comm&amp;Mgmt</td>\n",
       "      <td>No</td>\n",
       "      <td>91.34</td>\n",
       "      <td>Mkt&amp;Fin</td>\n",
       "      <td>61.29</td>\n",
       "      <td>231000.0</td>\n",
       "      <td>Placed</td>\n",
       "    </tr>\n",
       "    <tr>\n",
       "      <th>9</th>\n",
       "      <td>10</td>\n",
       "      <td>M</td>\n",
       "      <td>58.00</td>\n",
       "      <td>Central</td>\n",
       "      <td>70.00</td>\n",
       "      <td>Central</td>\n",
       "      <td>Commerce</td>\n",
       "      <td>61.00</td>\n",
       "      <td>Comm&amp;Mgmt</td>\n",
       "      <td>No</td>\n",
       "      <td>54.00</td>\n",
       "      <td>Mkt&amp;Fin</td>\n",
       "      <td>52.21</td>\n",
       "      <td>NaN</td>\n",
       "      <td>Not Placed</td>\n",
       "    </tr>\n",
       "    <tr>\n",
       "      <th>10</th>\n",
       "      <td>11</td>\n",
       "      <td>M</td>\n",
       "      <td>58.00</td>\n",
       "      <td>Central</td>\n",
       "      <td>61.00</td>\n",
       "      <td>Central</td>\n",
       "      <td>Commerce</td>\n",
       "      <td>60.00</td>\n",
       "      <td>Comm&amp;Mgmt</td>\n",
       "      <td>Yes</td>\n",
       "      <td>103.40</td>\n",
       "      <td>Mkt&amp;HR</td>\n",
       "      <td>60.85</td>\n",
       "      <td>260000.0</td>\n",
       "      <td>Placed</td>\n",
       "    </tr>\n",
       "    <tr>\n",
       "      <th>11</th>\n",
       "      <td>12</td>\n",
       "      <td>M</td>\n",
       "      <td>69.60</td>\n",
       "      <td>Central</td>\n",
       "      <td>68.40</td>\n",
       "      <td>Central</td>\n",
       "      <td>Commerce</td>\n",
       "      <td>78.30</td>\n",
       "      <td>Comm&amp;Mgmt</td>\n",
       "      <td>Yes</td>\n",
       "      <td>60.00</td>\n",
       "      <td>NaN</td>\n",
       "      <td>63.70</td>\n",
       "      <td>250000.0</td>\n",
       "      <td>Placed</td>\n",
       "    </tr>\n",
       "    <tr>\n",
       "      <th>12</th>\n",
       "      <td>13</td>\n",
       "      <td>F</td>\n",
       "      <td>47.00</td>\n",
       "      <td>Central</td>\n",
       "      <td>55.00</td>\n",
       "      <td>Others</td>\n",
       "      <td>Science</td>\n",
       "      <td>65.00</td>\n",
       "      <td>Comm&amp;Mgmt</td>\n",
       "      <td>No</td>\n",
       "      <td>62.00</td>\n",
       "      <td>Mkt&amp;HR</td>\n",
       "      <td>65.04</td>\n",
       "      <td>NaN</td>\n",
       "      <td>Not Placed</td>\n",
       "    </tr>\n",
       "    <tr>\n",
       "      <th>13</th>\n",
       "      <td>14</td>\n",
       "      <td>F</td>\n",
       "      <td>77.00</td>\n",
       "      <td>Central</td>\n",
       "      <td>87.00</td>\n",
       "      <td>Central</td>\n",
       "      <td>Commerce</td>\n",
       "      <td>59.00</td>\n",
       "      <td>Comm&amp;Mgmt</td>\n",
       "      <td>No</td>\n",
       "      <td>68.00</td>\n",
       "      <td>Mkt&amp;Fin</td>\n",
       "      <td>68.63</td>\n",
       "      <td>218000.0</td>\n",
       "      <td>Placed</td>\n",
       "    </tr>\n",
       "    <tr>\n",
       "      <th>14</th>\n",
       "      <td>15</td>\n",
       "      <td>M</td>\n",
       "      <td>62.00</td>\n",
       "      <td>Central</td>\n",
       "      <td>47.00</td>\n",
       "      <td>Central</td>\n",
       "      <td>NaN</td>\n",
       "      <td>50.00</td>\n",
       "      <td>Comm&amp;Mgmt</td>\n",
       "      <td>No</td>\n",
       "      <td>76.00</td>\n",
       "      <td>Mkt&amp;HR</td>\n",
       "      <td>54.96</td>\n",
       "      <td>NaN</td>\n",
       "      <td>Not Placed</td>\n",
       "    </tr>\n",
       "    <tr>\n",
       "      <th>15</th>\n",
       "      <td>16</td>\n",
       "      <td>F</td>\n",
       "      <td>65.00</td>\n",
       "      <td>Central</td>\n",
       "      <td>75.00</td>\n",
       "      <td>Central</td>\n",
       "      <td>Commerce</td>\n",
       "      <td>69.00</td>\n",
       "      <td>Comm&amp;Mgmt</td>\n",
       "      <td>Yes</td>\n",
       "      <td>72.00</td>\n",
       "      <td>Mkt&amp;Fin</td>\n",
       "      <td>64.66</td>\n",
       "      <td>200000.0</td>\n",
       "      <td>Placed</td>\n",
       "    </tr>\n",
       "    <tr>\n",
       "      <th>16</th>\n",
       "      <td>17</td>\n",
       "      <td>M</td>\n",
       "      <td>63.00</td>\n",
       "      <td>Central</td>\n",
       "      <td>NaN</td>\n",
       "      <td>Central</td>\n",
       "      <td>Commerce</td>\n",
       "      <td>65.60</td>\n",
       "      <td>Comm&amp;Mgmt</td>\n",
       "      <td>Yes</td>\n",
       "      <td>60.00</td>\n",
       "      <td>Mkt&amp;Fin</td>\n",
       "      <td>62.54</td>\n",
       "      <td>3000000.0</td>\n",
       "      <td>Placed</td>\n",
       "    </tr>\n",
       "    <tr>\n",
       "      <th>17</th>\n",
       "      <td>18</td>\n",
       "      <td>F</td>\n",
       "      <td>55.00</td>\n",
       "      <td>Central</td>\n",
       "      <td>67.00</td>\n",
       "      <td>Central</td>\n",
       "      <td>Commerce</td>\n",
       "      <td>64.00</td>\n",
       "      <td>Comm&amp;Mgmt</td>\n",
       "      <td>No</td>\n",
       "      <td>60.00</td>\n",
       "      <td>Mkt&amp;Fin</td>\n",
       "      <td>67.28</td>\n",
       "      <td>NaN</td>\n",
       "      <td>Not Placed</td>\n",
       "    </tr>\n",
       "    <tr>\n",
       "      <th>18</th>\n",
       "      <td>19</td>\n",
       "      <td>F</td>\n",
       "      <td>63.00</td>\n",
       "      <td>Central</td>\n",
       "      <td>66.00</td>\n",
       "      <td>Central</td>\n",
       "      <td>Commerce</td>\n",
       "      <td>64.00</td>\n",
       "      <td>Comm&amp;Mgmt</td>\n",
       "      <td>No</td>\n",
       "      <td>68.00</td>\n",
       "      <td>Mkt&amp;HR</td>\n",
       "      <td>64.08</td>\n",
       "      <td>NaN</td>\n",
       "      <td>Not Placed</td>\n",
       "    </tr>\n",
       "    <tr>\n",
       "      <th>19</th>\n",
       "      <td>20</td>\n",
       "      <td>M</td>\n",
       "      <td>60.00</td>\n",
       "      <td>Others</td>\n",
       "      <td>67.00</td>\n",
       "      <td>Others</td>\n",
       "      <td>Arts</td>\n",
       "      <td>70.00</td>\n",
       "      <td>Comm&amp;Mgmt</td>\n",
       "      <td>Yes</td>\n",
       "      <td>50.48</td>\n",
       "      <td>Mkt&amp;Fin</td>\n",
       "      <td>77.89</td>\n",
       "      <td>236000.0</td>\n",
       "      <td>Placed</td>\n",
       "    </tr>\n",
       "  </tbody>\n",
       "</table>\n",
       "</div>"
      ],
      "text/plain": [
       "    sl_no gender  ssc_p    ssc_b  hsc_p    hsc_b     hsc_s  degree_p  \\\n",
       "0       1      M  67.00   Others  91.00   Others  Commerce     58.00   \n",
       "1       2      M  79.33  Central  78.33   Others   Science     77.48   \n",
       "2       3      M  65.00  Central  68.00  Central      Arts     64.00   \n",
       "3       4      M  56.00  Central  52.00  Central   Science     52.00   \n",
       "4       5      M  85.80  Central  73.60  Central  Commerce     73.30   \n",
       "5       6      M  55.00   Others  49.80   Others   Science     67.25   \n",
       "6       7      F  46.00   Others  49.20   Others  Commerce     79.00   \n",
       "7       8      M  82.00  Central  64.00  Central   Science     66.00   \n",
       "8       9      M  73.00  Central  79.00  Central  Commerce     72.00   \n",
       "9      10      M  58.00  Central  70.00  Central  Commerce     61.00   \n",
       "10     11      M  58.00  Central  61.00  Central  Commerce     60.00   \n",
       "11     12      M  69.60  Central  68.40  Central  Commerce     78.30   \n",
       "12     13      F  47.00  Central  55.00   Others   Science     65.00   \n",
       "13     14      F  77.00  Central  87.00  Central  Commerce     59.00   \n",
       "14     15      M  62.00  Central  47.00  Central       NaN     50.00   \n",
       "15     16      F  65.00  Central  75.00  Central  Commerce     69.00   \n",
       "16     17      M  63.00  Central    NaN  Central  Commerce     65.60   \n",
       "17     18      F  55.00  Central  67.00  Central  Commerce     64.00   \n",
       "18     19      F  63.00  Central  66.00  Central  Commerce     64.00   \n",
       "19     20      M  60.00   Others  67.00   Others      Arts     70.00   \n",
       "\n",
       "     degree_t workex  etest_p specialisation  mba_p     salary      status  \n",
       "0    Sci&Tech     No    55.00         Mkt&HR  58.80   270000.0      Placed  \n",
       "1    Sci&Tech    Yes    86.50        Mkt&Fin  66.28   200000.0      Placed  \n",
       "2   Comm&Mgmt     No    75.00        Mkt&Fin  57.80   250000.0      Placed  \n",
       "3    Sci&Tech     No    66.00         Mkt&HR  59.43        NaN  Not Placed  \n",
       "4   Comm&Mgmt     No    96.80        Mkt&Fin  55.50   425000.0      Placed  \n",
       "5    Sci&Tech    Yes    55.00        Mkt&Fin  51.58        NaN  Not Placed  \n",
       "6   Comm&Mgmt     No    74.28        Mkt&Fin  53.29        NaN  Not Placed  \n",
       "7    Sci&Tech    Yes    67.00        Mkt&Fin  62.14   252000.0      Placed  \n",
       "8   Comm&Mgmt     No    91.34        Mkt&Fin  61.29   231000.0      Placed  \n",
       "9   Comm&Mgmt     No    54.00        Mkt&Fin  52.21        NaN  Not Placed  \n",
       "10  Comm&Mgmt    Yes   103.40         Mkt&HR  60.85   260000.0      Placed  \n",
       "11  Comm&Mgmt    Yes    60.00            NaN  63.70   250000.0      Placed  \n",
       "12  Comm&Mgmt     No    62.00         Mkt&HR  65.04        NaN  Not Placed  \n",
       "13  Comm&Mgmt     No    68.00        Mkt&Fin  68.63   218000.0      Placed  \n",
       "14  Comm&Mgmt     No    76.00         Mkt&HR  54.96        NaN  Not Placed  \n",
       "15  Comm&Mgmt    Yes    72.00        Mkt&Fin  64.66   200000.0      Placed  \n",
       "16  Comm&Mgmt    Yes    60.00        Mkt&Fin  62.54  3000000.0      Placed  \n",
       "17  Comm&Mgmt     No    60.00        Mkt&Fin  67.28        NaN  Not Placed  \n",
       "18  Comm&Mgmt     No    68.00         Mkt&HR  64.08        NaN  Not Placed  \n",
       "19  Comm&Mgmt    Yes    50.48        Mkt&Fin  77.89   236000.0      Placed  "
      ]
     },
     "execution_count": 3,
     "metadata": {},
     "output_type": "execute_result"
    }
   ],
   "source": [
    "#first, I want to know what the dataset looks like\n",
    "df.head(20)"
   ]
  },
  {
   "cell_type": "code",
   "execution_count": 4,
   "id": "6f648f5e-999e-48fa-bdc2-6e8dcb909be0",
   "metadata": {},
   "outputs": [
    {
     "name": "stdout",
     "output_type": "stream",
     "text": [
      "<class 'pandas.core.frame.DataFrame'>\n",
      "RangeIndex: 215 entries, 0 to 214\n",
      "Data columns (total 15 columns):\n",
      " #   Column          Non-Null Count  Dtype  \n",
      "---  ------          --------------  -----  \n",
      " 0   sl_no           215 non-null    int64  \n",
      " 1   gender          215 non-null    object \n",
      " 2   ssc_p           215 non-null    float64\n",
      " 3   ssc_b           215 non-null    object \n",
      " 4   hsc_p           213 non-null    float64\n",
      " 5   hsc_b           215 non-null    object \n",
      " 6   hsc_s           214 non-null    object \n",
      " 7   degree_p        215 non-null    float64\n",
      " 8   degree_t        215 non-null    object \n",
      " 9   workex          215 non-null    object \n",
      " 10  etest_p         215 non-null    float64\n",
      " 11  specialisation  214 non-null    object \n",
      " 12  mba_p           215 non-null    float64\n",
      " 13  salary          148 non-null    float64\n",
      " 14  status          215 non-null    object \n",
      "dtypes: float64(6), int64(1), object(8)\n",
      "memory usage: 25.3+ KB\n"
     ]
    }
   ],
   "source": [
    "#can already see some null data \n",
    "df.info()"
   ]
  },
  {
   "cell_type": "code",
   "execution_count": 5,
   "id": "b01b7695-21de-48ca-a253-697497aba86e",
   "metadata": {},
   "outputs": [],
   "source": [
    "#specialisation only has 1 null data so I will use the most frequent value and will replace it \n",
    "mfspecialisation = df['specialisation'].mode()[0] \n",
    "df['specialisation'] = df['specialisation'].fillna(mfspecialisation)"
   ]
  },
  {
   "cell_type": "code",
   "execution_count": 6,
   "id": "4e3dbc53-e357-42c9-a7bb-3ce948ed488b",
   "metadata": {},
   "outputs": [],
   "source": [
    "#I also have missing values in hsc_s so I will use same method \n",
    "mfhsc_s = df['hsc_s'].mode()[0] \n",
    "df['hsc_s'] = df['hsc_s'].fillna(mfhsc_s) "
   ]
  },
  {
   "cell_type": "code",
   "execution_count": 7,
   "id": "f5215576-dee7-4972-ae4b-518f19d72245",
   "metadata": {},
   "outputs": [],
   "source": [
    "# I now only have hsc_p and salary with missing values, since both have numeric values I will find median and will replace missing values\n",
    "#I felt a little unsure about deteleting salary row since almost 60% of it was null but I feel like it is a crucial variable for the recruiting firm.\n",
    "\n",
    "mhsc_p = df['hsc_p'].median()\n",
    "msalary = df['salary'].median()\n",
    "\n",
    "df['hsc_p'].fillna(mhsc_p, inplace=True)\n",
    "df['salary'].fillna(msalary, inplace=True)\n",
    "\n"
   ]
  },
  {
   "cell_type": "code",
   "execution_count": 20,
   "id": "4ae4cccf-9d05-429b-9a4d-964ef155b56c",
   "metadata": {},
   "outputs": [
    {
     "name": "stdout",
     "output_type": "stream",
     "text": [
      "<class 'pandas.core.frame.DataFrame'>\n",
      "RangeIndex: 215 entries, 0 to 214\n",
      "Data columns (total 15 columns):\n",
      " #   Column          Non-Null Count  Dtype  \n",
      "---  ------          --------------  -----  \n",
      " 0   sl_no           215 non-null    int64  \n",
      " 1   gender          215 non-null    object \n",
      " 2   ssc_p           215 non-null    float64\n",
      " 3   ssc_b           215 non-null    object \n",
      " 4   hsc_p           215 non-null    float64\n",
      " 5   hsc_b           215 non-null    object \n",
      " 6   hsc_s           215 non-null    object \n",
      " 7   degree_p        215 non-null    float64\n",
      " 8   degree_t        215 non-null    object \n",
      " 9   workex          215 non-null    object \n",
      " 10  etest_p         215 non-null    float64\n",
      " 11  specialisation  215 non-null    object \n",
      " 12  mba_p           215 non-null    float64\n",
      " 13  salary          215 non-null    float64\n",
      " 14  status          215 non-null    object \n",
      "dtypes: float64(6), int64(1), object(8)\n",
      "memory usage: 25.3+ KB\n"
     ]
    }
   ],
   "source": [
    "#finally no null data! \n",
    "df.info()"
   ]
  },
  {
   "cell_type": "code",
   "execution_count": 8,
   "id": "5f32f54f-fde0-4f21-8c38-d9236e29f6e2",
   "metadata": {},
   "outputs": [
    {
     "name": "stdout",
     "output_type": "stream",
     "text": [
      "ssc_p          15.10\n",
      "hsc_p          12.00\n",
      "degree_p       11.00\n",
      "etest_p        24.00\n",
      "mba_p           8.31\n",
      "salary      32500.00\n",
      "dtype: float64\n"
     ]
    }
   ],
   "source": [
    "#my next step is to find outliers for each numeric column \n",
    "\n",
    "numeric_columns = ['ssc_p', 'hsc_p', 'degree_p', 'etest_p', 'mba_p', 'salary']\n",
    "\n",
    "# Calculate the first quartile (Q1) and third quartile (Q3) for each numeric column\n",
    "Q1 = df[numeric_columns].quantile(0.25)\n",
    "Q3 = df[numeric_columns].quantile(0.75)\n",
    "\n",
    "IQR = Q3 - Q1\n",
    "\n",
    "print(IQR)\n",
    "\n"
   ]
  },
  {
   "cell_type": "code",
   "execution_count": 9,
   "id": "af584b6c-8a31-44a2-8d23-2933a7ae89fa",
   "metadata": {},
   "outputs": [
    {
     "name": "stdout",
     "output_type": "stream",
     "text": [
      "     sl_no gender   ssc_p    ssc_b  hsc_p    hsc_b     hsc_s  degree_p  \\\n",
      "176    177      F  119.00  Central  60.00   Others  Commerce     56.00   \n",
      "24      25      M   76.50   Others  97.70   Others   Science     78.86   \n",
      "42      43      M   49.00   Others  39.00  Central   Science     65.00   \n",
      "49      50      F   50.00   Others  37.00   Others      Arts     52.00   \n",
      "120    121      M   58.00   Others  40.00   Others   Science     59.00   \n",
      "134    135      F   77.44  Central  92.00   Others  Commerce     72.00   \n",
      "169    170      M   59.96   Others  42.16   Others   Science     61.26   \n",
      "177    178      F   73.00  Central  97.00   Others  Commerce     79.00   \n",
      "206    207      M   41.00  Central  42.00  Central   Science     60.00   \n",
      "197    198      F   83.96   Others  53.00   Others   Science     91.00   \n",
      "1        2      M   79.33  Central  78.33   Others   Science     77.48   \n",
      "4        5      M   85.80  Central  73.60  Central  Commerce     73.30   \n",
      "15      16      F   65.00  Central  75.00  Central  Commerce     69.00   \n",
      "16      17      M   63.00  Central  65.00  Central  Commerce     65.60   \n",
      "21      22      F   79.00   Others  76.00   Others  Commerce     85.00   \n",
      "22      23      F   69.80   Others  60.80   Others   Science     72.23   \n",
      "24      25      M   76.50   Others  97.70   Others   Science     78.86   \n",
      "28      29      M   76.76   Others  76.50   Others  Commerce     67.50   \n",
      "33      34      F   87.00   Others  65.00   Others   Science     81.00   \n",
      "39      40      M   81.00   Others  68.00   Others   Science     64.00   \n",
      "44      45      F   77.00   Others  73.00   Others  Commerce     81.00   \n",
      "50      51      F   75.20  Central  73.20  Central   Science     68.40   \n",
      "53      54      M   80.00   Others  70.00   Others   Science     72.00   \n",
      "57      58      M   68.00  Central  76.00  Central  Commerce     74.00   \n",
      "70      71      M   82.00   Others  61.00   Others   Science     62.00   \n",
      "74      75      M   56.60  Central  64.80  Central  Commerce     70.20   \n",
      "77      78      M   64.00   Others  80.00   Others   Science     65.00   \n",
      "85      86      F   83.84   Others  89.83   Others  Commerce     77.20   \n",
      "95      96      M   73.00  Central  78.00   Others  Commerce     65.00   \n",
      "101    102      M   63.00  Central  72.00  Central  Commerce     68.00   \n",
      "104    105      M   69.00  Central  63.00   Others   Science     65.00   \n",
      "107    108      M   82.00   Others  90.00   Others  Commerce     83.00   \n",
      "119    120      M   60.80  Central  68.40  Central  Commerce     64.60   \n",
      "125    126      F   84.00  Central  73.00  Central  Commerce     73.00   \n",
      "128    129      M   80.40  Central  73.40  Central   Science     77.72   \n",
      "131    132      F   74.90   Others  57.00   Others   Science     62.00   \n",
      "135    136      F   72.00  Central  56.00   Others   Science     69.00   \n",
      "145    146      M   89.40   Others  65.66   Others   Science     71.25   \n",
      "150    151      M   71.00  Central  58.66  Central   Science     58.00   \n",
      "153    154      M   49.00   Others  59.00   Others   Science     65.00   \n",
      "163    164      M   63.00   Others  67.00   Others   Science     64.00   \n",
      "174    175      M   73.24   Others  50.83   Others   Science     64.27   \n",
      "177    178      F   73.00  Central  97.00   Others  Commerce     79.00   \n",
      "178    179      M   68.00   Others  56.00   Others   Science     68.00   \n",
      "210    211      M   80.60   Others  82.00   Others  Commerce     77.60   \n",
      "\n",
      "      degree_t workex  etest_p specialisation  mba_p     salary      status  \n",
      "176  Comm&Mgmt     No    55.00         Mkt&HR  57.90   220000.0      Placed  \n",
      "24    Sci&Tech     No    97.40        Mkt&Fin  74.01   360000.0      Placed  \n",
      "42      Others     No    63.00        Mkt&Fin  51.21   265000.0  Not Placed  \n",
      "49      Others     No    65.00         Mkt&HR  56.11   265000.0  Not Placed  \n",
      "120  Comm&Mgmt     No    73.00         Mkt&HR  58.81   265000.0  Not Placed  \n",
      "134  Comm&Mgmt    Yes    94.00        Mkt&Fin  67.13   250000.0      Placed  \n",
      "169   Sci&Tech     No    54.48         Mkt&HR  65.48   265000.0  Not Placed  \n",
      "177  Comm&Mgmt    Yes    89.00        Mkt&Fin  70.81   650000.0      Placed  \n",
      "206  Comm&Mgmt     No    97.00        Mkt&Fin  53.39   265000.0  Not Placed  \n",
      "197   Sci&Tech     No    59.32         Mkt&HR  69.71   260000.0      Placed  \n",
      "1     Sci&Tech    Yes    86.50        Mkt&Fin  66.28   200000.0      Placed  \n",
      "4    Comm&Mgmt     No    96.80        Mkt&Fin  55.50   425000.0      Placed  \n",
      "15   Comm&Mgmt    Yes    72.00        Mkt&Fin  64.66   200000.0      Placed  \n",
      "16   Comm&Mgmt    Yes    60.00        Mkt&Fin  62.54  3000000.0      Placed  \n",
      "21   Comm&Mgmt     No    95.00        Mkt&Fin  69.06   393000.0      Placed  \n",
      "22    Sci&Tech     No    55.53         Mkt&HR  68.81   360000.0      Placed  \n",
      "24    Sci&Tech     No    97.40        Mkt&Fin  74.01   360000.0      Placed  \n",
      "28   Comm&Mgmt    Yes    73.35        Mkt&Fin  64.15   350000.0      Placed  \n",
      "33   Comm&Mgmt    Yes    88.00        Mkt&Fin  72.78  2600000.0      Placed  \n",
      "39    Sci&Tech     No    93.00        Mkt&Fin  62.56   411000.0      Placed  \n",
      "44   Comm&Mgmt    Yes    89.00        Mkt&Fin  69.70   200000.0      Placed  \n",
      "50   Comm&Mgmt     No    65.00         Mkt&HR  62.98   200000.0      Placed  \n",
      "53    Sci&Tech     No    87.00         Mkt&HR  71.04   450000.0      Placed  \n",
      "57   Comm&Mgmt     No    80.00        Mkt&Fin  63.59   360000.0      Placed  \n",
      "70    Sci&Tech     No    89.00        Mkt&Fin  65.45   360000.0      Placed  \n",
      "74   Comm&Mgmt     No    84.27        Mkt&Fin  67.20   336000.0      Placed  \n",
      "77    Sci&Tech    Yes    69.00        Mkt&Fin  57.65   500000.0      Placed  \n",
      "85   Comm&Mgmt    Yes    78.74        Mkt&Fin  76.18   400000.0      Placed  \n",
      "95   Comm&Mgmt    Yes    95.46        Mkt&Fin  62.16    45000.0      Placed  \n",
      "101  Comm&Mgmt     No    78.00         Mkt&HR  60.44   380000.0      Placed  \n",
      "104  Comm&Mgmt    Yes    55.00         Mkt&HR  58.23   360000.0      Placed  \n",
      "107  Comm&Mgmt     No    80.00         Mkt&HR  73.52   200000.0      Placed  \n",
      "119  Comm&Mgmt    Yes    82.66        Mkt&Fin  64.34   940000.0      Placed  \n",
      "125  Comm&Mgmt     No    75.00        Mkt&Fin  73.33   350000.0      Placed  \n",
      "128   Sci&Tech    Yes    81.20         Mkt&HR  76.26   400000.0      Placed  \n",
      "131     Others    Yes    80.00        Mkt&Fin  60.78   360000.0      Placed  \n",
      "135  Comm&Mgmt     No    55.60         Mkt&HR  65.63   200000.0      Placed  \n",
      "145   Sci&Tech     No    72.00         Mkt&HR  63.23   400000.0      Placed  \n",
      "150   Sci&Tech    Yes    56.00        Mkt&Fin  61.30   690000.0      Placed  \n",
      "153   Sci&Tech    Yes    86.00        Mkt&Fin  62.48   340000.0      Placed  \n",
      "163   Sci&Tech     No    75.00        Mkt&Fin  66.46   500000.0      Placed  \n",
      "174   Sci&Tech    Yes    64.00        Mkt&Fin  66.23   500000.0      Placed  \n",
      "177  Comm&Mgmt    Yes    89.00        Mkt&Fin  70.81   650000.0      Placed  \n",
      "178   Sci&Tech     No    73.00         Mkt&HR  68.07   350000.0      Placed  \n",
      "210  Comm&Mgmt     No    91.00        Mkt&Fin  74.49   400000.0      Placed  \n"
     ]
    }
   ],
   "source": [
    "below = Q1 - 1.5 * IQR\n",
    "above = Q3 + 1.5 * IQR\n",
    "\n",
    "outliers = {}\n",
    "for i in numeric_columns:\n",
    "    outliers[i ] = df.loc[(df[i] < below[i]) | (df[i] > above[i])]\n",
    "all_outliers = pd.concat(outliers.values())\n",
    "print(all_outliers)"
   ]
  },
  {
   "cell_type": "code",
   "execution_count": 28,
   "id": "debbaaab-65c8-487e-8dea-c9fae4a2afeb",
   "metadata": {},
   "outputs": [
    {
     "name": "stdout",
     "output_type": "stream",
     "text": [
      "ssc_p           38.25\n",
      "hsc_p           43.00\n",
      "degree_p        44.50\n",
      "etest_p         24.00\n",
      "mba_p           45.48\n",
      "salary      201250.00\n",
      "dtype: float64 ssc_p           98.65\n",
      "hsc_p           91.00\n",
      "degree_p        88.50\n",
      "etest_p        120.00\n",
      "mba_p           78.72\n",
      "salary      331250.00\n",
      "dtype: float64\n"
     ]
    }
   ],
   "source": [
    "print (below, above)"
   ]
  },
  {
   "cell_type": "code",
   "execution_count": 11,
   "id": "569cd087-4bcf-41a1-b7bc-f3af56aa9706",
   "metadata": {},
   "outputs": [
    {
     "name": "stdout",
     "output_type": "stream",
     "text": [
      "     sl_no gender   ssc_p    ssc_b  hsc_p    hsc_b     hsc_s  degree_p  \\\n",
      "176    177      F  119.00  Central  60.00   Others  Commerce     56.00   \n",
      "4        5      M   85.80  Central  73.60  Central  Commerce     73.30   \n",
      "16      17      M   63.00  Central  65.00  Central  Commerce     65.60   \n",
      "21      22      F   79.00   Others  76.00   Others  Commerce     85.00   \n",
      "33      34      F   87.00   Others  65.00   Others   Science     81.00   \n",
      "39      40      M   81.00   Others  68.00   Others   Science     64.00   \n",
      "53      54      M   80.00   Others  70.00   Others   Science     72.00   \n",
      "77      78      M   64.00   Others  80.00   Others   Science     65.00   \n",
      "85      86      F   83.84   Others  89.83   Others  Commerce     77.20   \n",
      "95      96      M   73.00  Central  78.00   Others  Commerce     65.00   \n",
      "101    102      M   63.00  Central  72.00  Central  Commerce     68.00   \n",
      "119    120      M   60.80  Central  68.40  Central  Commerce     64.60   \n",
      "128    129      M   80.40  Central  73.40  Central   Science     77.72   \n",
      "145    146      M   89.40   Others  65.66   Others   Science     71.25   \n",
      "150    151      M   71.00  Central  58.66  Central   Science     58.00   \n",
      "163    164      M   63.00   Others  67.00   Others   Science     64.00   \n",
      "174    175      M   73.24   Others  50.83   Others   Science     64.27   \n",
      "177    178      F   73.00  Central  97.00   Others  Commerce     79.00   \n",
      "210    211      M   80.60   Others  82.00   Others  Commerce     77.60   \n",
      "\n",
      "      degree_t workex  etest_p specialisation  mba_p     salary  status  \n",
      "176  Comm&Mgmt     No    55.00         Mkt&HR  57.90   220000.0  Placed  \n",
      "4    Comm&Mgmt     No    96.80        Mkt&Fin  55.50   425000.0  Placed  \n",
      "16   Comm&Mgmt    Yes    60.00        Mkt&Fin  62.54  3000000.0  Placed  \n",
      "21   Comm&Mgmt     No    95.00        Mkt&Fin  69.06   393000.0  Placed  \n",
      "33   Comm&Mgmt    Yes    88.00        Mkt&Fin  72.78  2600000.0  Placed  \n",
      "39    Sci&Tech     No    93.00        Mkt&Fin  62.56   411000.0  Placed  \n",
      "53    Sci&Tech     No    87.00         Mkt&HR  71.04   450000.0  Placed  \n",
      "77    Sci&Tech    Yes    69.00        Mkt&Fin  57.65   500000.0  Placed  \n",
      "85   Comm&Mgmt    Yes    78.74        Mkt&Fin  76.18   400000.0  Placed  \n",
      "95   Comm&Mgmt    Yes    95.46        Mkt&Fin  62.16    45000.0  Placed  \n",
      "101  Comm&Mgmt     No    78.00         Mkt&HR  60.44   380000.0  Placed  \n",
      "119  Comm&Mgmt    Yes    82.66        Mkt&Fin  64.34   940000.0  Placed  \n",
      "128   Sci&Tech    Yes    81.20         Mkt&HR  76.26   400000.0  Placed  \n",
      "145   Sci&Tech     No    72.00         Mkt&HR  63.23   400000.0  Placed  \n",
      "150   Sci&Tech    Yes    56.00        Mkt&Fin  61.30   690000.0  Placed  \n",
      "163   Sci&Tech     No    75.00        Mkt&Fin  66.46   500000.0  Placed  \n",
      "174   Sci&Tech    Yes    64.00        Mkt&Fin  66.23   500000.0  Placed  \n",
      "177  Comm&Mgmt    Yes    89.00        Mkt&Fin  70.81   650000.0  Placed  \n",
      "210  Comm&Mgmt     No    91.00        Mkt&Fin  74.49   400000.0  Placed  \n"
     ]
    }
   ],
   "source": [
    "#Im curious to know how it looks like with a higher coefficient, I feel unsure about removing so much data, since salary is the one being the most\n",
    "#sensitive\n",
    "below = Q1 - 2.5 * IQR\n",
    "above = Q3 + 2.5 * IQR\n",
    "\n",
    "outliers = {}\n",
    "for i in numeric_columns:\n",
    "    outliers[i ] = df.loc[(df[i] < below[i]) | (df[i] > above[i])]\n",
    "all_outliers2 = pd.concat(outliers.values())\n",
    "print(all_outliers2)\n"
   ]
  },
  {
   "cell_type": "code",
   "execution_count": 12,
   "id": "f4267e92-eebf-4cea-992f-8f408340b9fe",
   "metadata": {},
   "outputs": [],
   "source": [
    "#dropping rows with outliers\n",
    "below = Q1 - 2.5 * IQR\n",
    "above = Q3 + 2.5 * IQR\n",
    "\n",
    "outliers = pd.DataFrame()\n",
    "for i in numeric_columns:\n",
    "    outliers = pd.concat([outliers, df.loc[(df[i] < below[i]) | (df[i] > above[i])]])\n",
    "\n",
    "df_cleaned = df.drop(outliers.index)\n"
   ]
  },
  {
   "cell_type": "code",
   "execution_count": 53,
   "id": "ba9a1913-5149-4dd8-ac74-eaaacd19b283",
   "metadata": {},
   "outputs": [
    {
     "name": "stdout",
     "output_type": "stream",
     "text": [
      "<class 'pandas.core.frame.DataFrame'>\n",
      "Index: 196 entries, 0 to 214\n",
      "Data columns (total 15 columns):\n",
      " #   Column          Non-Null Count  Dtype  \n",
      "---  ------          --------------  -----  \n",
      " 0   sl_no           196 non-null    int64  \n",
      " 1   gender          196 non-null    object \n",
      " 2   ssc_p           196 non-null    float64\n",
      " 3   ssc_b           196 non-null    object \n",
      " 4   hsc_p           196 non-null    float64\n",
      " 5   hsc_b           196 non-null    object \n",
      " 6   hsc_s           196 non-null    object \n",
      " 7   degree_p        196 non-null    float64\n",
      " 8   degree_t        196 non-null    object \n",
      " 9   workex          196 non-null    object \n",
      " 10  etest_p         196 non-null    float64\n",
      " 11  specialisation  196 non-null    object \n",
      " 12  mba_p           196 non-null    float64\n",
      " 13  salary          196 non-null    float64\n",
      " 14  status          196 non-null    object \n",
      "dtypes: float64(6), int64(1), object(8)\n",
      "memory usage: 24.5+ KB\n"
     ]
    }
   ],
   "source": [
    "df_cleaned.info()"
   ]
  },
  {
   "cell_type": "code",
   "execution_count": 81,
   "id": "8eed0474-8524-41c1-a8f6-8e32345bbb3d",
   "metadata": {},
   "outputs": [
    {
     "data": {
      "image/png": "[encoded data removed]",
      "text/plain": [
       "<Figure size 700x500 with 1 Axes>"
      ]
     },
     "metadata": {},
     "output_type": "display_data"
    }
   ],
   "source": [
    "import matplotlib.pyplot as plt\n",
    "\n",
    "#Visualization n1: Academic Performance Distribution\n",
    "plt.figure(figsize=(7, 5))\n",
    "sns.boxplot(data=df_cleaned[['ssc_p', 'hsc_p', 'degree_p']])\n",
    "plt.title('Academic Performance')\n",
    "plt.xlabel('Performance')\n",
    "plt.ylabel('Percentage')\n",
    "plt.xticks(rotation=45)\n",
    "plt.show()\n"
   ]
  },
  {
   "cell_type": "code",
   "execution_count": 97,
   "id": "f2b61f39-635a-4010-af66-feec954a21f1",
   "metadata": {},
   "outputs": [
    {
     "data": {
      "text/plain": [
       "Text(0.5, 1.0, 'Distribution of Gender')"
      ]
     },
     "execution_count": 97,
     "metadata": {},
     "output_type": "execute_result"
    },
    {
     "data": {
      "image/png": "[encoded data removed]",
      "text/plain": [
       "<Figure size 500x700 with 1 Axes>"
      ]
     },
     "metadata": {},
     "output_type": "display_data"
    }
   ],
   "source": [
    "#Visualization n2: Gender distribution \n",
    "plt.figure(figsize=(5, 7))\n",
    "plt.subplot(1, 2, 1)\n",
    "sns.countplot(data=df, x='gender')\n",
    "plt.title('Distribution of Gender')\n"
   ]
  },
  {
   "cell_type": "code",
   "execution_count": 93,
   "id": "e445dc95-0aa5-466b-805a-012a02500327",
   "metadata": {},
   "outputs": [
    {
     "data": {
      "image/png": "[encoded data removed]",
      "text/plain": [
       "<Figure size 700x500 with 1 Axes>"
      ]
     },
     "metadata": {},
     "output_type": "display_data"
    }
   ],
   "source": [
    "#Visualization n3: Placement Status by Work Experience\n",
    "plt.figure(figsize=(7, 5))\n",
    "sns.countplot(data=df_cleaned, x='workex', hue='status')\n",
    "plt.title('Placement Status by Work Experience')\n",
    "plt.xlabel('Work Experience')\n",
    "plt.ylabel('Count')\n",
    "plt.legend(title='Placement Status')\n",
    "plt.show()\n"
   ]
  },
  {
   "cell_type": "code",
   "execution_count": 26,
   "id": "87a9e499-839b-4790-9591-6aa39452f8a6",
   "metadata": {},
   "outputs": [
    {
     "name": "stderr",
     "output_type": "stream",
     "text": [
      "C:\\Users\\gioco\\AppData\\Local\\Temp\\ipykernel_18648\\747123501.py:3: FutureWarning: The default of observed=False is deprecated and will be changed to True in a future version of pandas. Pass observed=False to retain current behavior or observed=True to adopt the future default and silence this warning.\n",
      "  gbystatus = df_cleaned.groupby(['degree_p_bins', 'status']).size().unstack()\n"
     ]
    },
    {
     "data": {
      "image/png": "[encoded data removed]",
      "text/plain": [
       "<Figure size 500x600 with 1 Axes>"
      ]
     },
     "metadata": {},
     "output_type": "display_data"
    }
   ],
   "source": [
    "#Visualization n4: Count of status by degree percentage \n",
    "df_cleaned['degree_p_bins'] = pd.cut(df_cleaned['degree_p'], bins=5)  # Adjust number of bins as needed\n",
    "gbystatus = df_cleaned.groupby(['degree_p_bins', 'status']).size().unstack()\n",
    "gbystatus.plot(kind='bar', stacked=True, figsize=(5, 6))\n",
    "plt.title('Count of Status by Degree Percentage')\n",
    "plt.xlabel('Degree Percentage Bins')\n",
    "plt.ylabel('Count')\n",
    "plt.xticks(rotation=45)\n",
    "plt.legend(title='Status')\n",
    "\n",
    "plt.show()\n"
   ]
  },
  {
   "cell_type": "code",
   "execution_count": 83,
   "id": "89009b0c-2188-4b82-862a-7b9a99354b8b",
   "metadata": {},
   "outputs": [
    {
     "data": {
      "image/png": "[encoded data removed]",
      "text/plain": [
       "<Figure size 700x500 with 1 Axes>"
      ]
     },
     "metadata": {},
     "output_type": "display_data"
    }
   ],
   "source": [
    "#Visualiazation n5: Placement status by specialization\n",
    "plt.figure(figsize=(7, 5))\n",
    "sns.countplot(data=df_cleaned, x='specialisation', hue='status')\n",
    "plt.title('Placement Status by Specialization')\n",
    "plt.xlabel('Specialization')\n",
    "plt.ylabel('Count')\n",
    "plt.legend(title='Placement Status')\n",
    "plt.show()"
   ]
  },
  {
   "cell_type": "code",
   "execution_count": 84,
   "id": "7277e709-fdde-4b28-9fe6-a3d1343a35fa",
   "metadata": {},
   "outputs": [
    {
     "data": {
      "image/png": "[encoded data removed]",
      "text/plain": [
       "<Figure size 700x500 with 2 Axes>"
      ]
     },
     "metadata": {},
     "output_type": "display_data"
    }
   ],
   "source": [
    "# Visualization n6: Correlation Heatmap\n",
    "plt.figure(figsize=(7, 5))\n",
    "sns.heatmap(df_cleaned[['ssc_p', 'hsc_p', 'degree_p', 'salary']].corr(), annot=True, cmap='coolwarm', fmt=\".2f\")\n",
    "plt.title('Correlation between Academic Performance Metrics and Salary')\n",
    "plt.show()"
   ]
  },
  {
   "cell_type": "code",
   "execution_count": 85,
   "id": "60d8e861-0f71-4cc6-85fb-137832bb3b07",
   "metadata": {},
   "outputs": [
    {
     "data": {
      "image/png": "[encoded data removed]",
      "text/plain": [
       "<Figure size 700x500 with 1 Axes>"
      ]
     },
     "metadata": {},
     "output_type": "display_data"
    }
   ],
   "source": [
    "#Visualization n7: Academic performance and Status \n",
    "plt.figure(figsize=(7, 5))\n",
    "sns.boxplot(data=df_cleaned, x='status', y='ssc_p')\n",
    "plt.title('Academic performance and Placement Status')\n",
    "plt.xlabel('Placement Status')\n",
    "plt.ylabel('SSC Percentage')\n",
    "plt.show()"
   ]
  },
  {
   "cell_type": "code",
   "execution_count": null,
   "id": "da4b724b-3771-438d-ac34-36756ef63bfd",
   "metadata": {},
   "outputs": [],
   "source": [
    "#Based on the visual analysis, it's intriguing to note that students with no prior work experience exhibited a significantly higher placement rate. \n",
    "#Additionally, the specialization in Marketing and Finance (MKT&FIN) demonstrated the widest range in placement.\n",
    "#While Management and Human Resources (MT&HR) showed the lowest range. \n",
    "#Moreover, concerning academic performance, students with the highest SSC percentage tended to have a higher placement rate."
   ]
  },
  {
   "cell_type": "code",
   "execution_count": 15,
   "id": "e374f8c8-d7b1-41ba-becf-c0b4fca1d01d",
   "metadata": {},
   "outputs": [
    {
     "data": {
      "text/plain": [
       "(196, 15)"
      ]
     },
     "execution_count": 15,
     "metadata": {},
     "output_type": "execute_result"
    }
   ],
   "source": [
    "df_cleaned.shape"
   ]
  },
  {
   "cell_type": "code",
   "execution_count": 16,
   "id": "e9b6be28-1c61-4c13-ab2e-f76a1d78da51",
   "metadata": {},
   "outputs": [
    {
     "data": {
      "text/html": [
       "<div>\n",
       "<style scoped>\n",
       "    .dataframe tbody tr th:only-of-type {\n",
       "        vertical-align: middle;\n",
       "    }\n",
       "\n",
       "    .dataframe tbody tr th {\n",
       "        vertical-align: top;\n",
       "    }\n",
       "\n",
       "    .dataframe thead th {\n",
       "        text-align: right;\n",
       "    }\n",
       "</style>\n",
       "<table border=\"1\" class=\"dataframe\">\n",
       "  <thead>\n",
       "    <tr style=\"text-align: right;\">\n",
       "      <th></th>\n",
       "      <th>sl_no</th>\n",
       "      <th>gender</th>\n",
       "      <th>ssc_p</th>\n",
       "      <th>ssc_b</th>\n",
       "      <th>hsc_p</th>\n",
       "      <th>hsc_b</th>\n",
       "      <th>hsc_s</th>\n",
       "      <th>degree_p</th>\n",
       "      <th>degree_t</th>\n",
       "      <th>workex</th>\n",
       "      <th>etest_p</th>\n",
       "      <th>specialisation</th>\n",
       "      <th>mba_p</th>\n",
       "      <th>salary</th>\n",
       "    </tr>\n",
       "    <tr>\n",
       "      <th>status</th>\n",
       "      <th></th>\n",
       "      <th></th>\n",
       "      <th></th>\n",
       "      <th></th>\n",
       "      <th></th>\n",
       "      <th></th>\n",
       "      <th></th>\n",
       "      <th></th>\n",
       "      <th></th>\n",
       "      <th></th>\n",
       "      <th></th>\n",
       "      <th></th>\n",
       "      <th></th>\n",
       "      <th></th>\n",
       "    </tr>\n",
       "  </thead>\n",
       "  <tbody>\n",
       "    <tr>\n",
       "      <th>Not Placed</th>\n",
       "      <td>67</td>\n",
       "      <td>67</td>\n",
       "      <td>67</td>\n",
       "      <td>67</td>\n",
       "      <td>67</td>\n",
       "      <td>67</td>\n",
       "      <td>67</td>\n",
       "      <td>67</td>\n",
       "      <td>67</td>\n",
       "      <td>67</td>\n",
       "      <td>67</td>\n",
       "      <td>67</td>\n",
       "      <td>67</td>\n",
       "      <td>67</td>\n",
       "    </tr>\n",
       "    <tr>\n",
       "      <th>Placed</th>\n",
       "      <td>129</td>\n",
       "      <td>129</td>\n",
       "      <td>129</td>\n",
       "      <td>129</td>\n",
       "      <td>129</td>\n",
       "      <td>129</td>\n",
       "      <td>129</td>\n",
       "      <td>129</td>\n",
       "      <td>129</td>\n",
       "      <td>129</td>\n",
       "      <td>129</td>\n",
       "      <td>129</td>\n",
       "      <td>129</td>\n",
       "      <td>129</td>\n",
       "    </tr>\n",
       "  </tbody>\n",
       "</table>\n",
       "</div>"
      ],
      "text/plain": [
       "            sl_no  gender  ssc_p  ssc_b  hsc_p  hsc_b  hsc_s  degree_p  \\\n",
       "status                                                                   \n",
       "Not Placed     67      67     67     67     67     67     67        67   \n",
       "Placed        129     129    129    129    129    129    129       129   \n",
       "\n",
       "            degree_t  workex  etest_p  specialisation  mba_p  salary  \n",
       "status                                                                \n",
       "Not Placed        67      67       67              67     67      67  \n",
       "Placed           129     129      129             129    129     129  "
      ]
     },
     "execution_count": 16,
     "metadata": {},
     "output_type": "execute_result"
    }
   ],
   "source": [
    "#getting the data ready for regression analisis \n",
    "df_cleaned.groupby(['status']).count()"
   ]
  },
  {
   "cell_type": "code",
   "execution_count": 17,
   "id": "8258a393-8d5f-404f-8ab4-5f248337e20d",
   "metadata": {},
   "outputs": [],
   "source": [
    "from sklearn.linear_model import LogisticRegression\n",
    "import matplotlib.pyplot as plt\n",
    "#To Split our Data set into training and test data\n",
    "from sklearn.model_selection import train_test_split\n",
    "# To calculate accuracy measures and confusion matrix\n",
    "from sklearn import metrics"
   ]
  },
  {
   "cell_type": "code",
   "execution_count": 27,
   "id": "d7db22be-c632-4cd8-8a2a-babe61fffe4c",
   "metadata": {},
   "outputs": [
    {
     "data": {
      "text/html": [
       "<div>\n",
       "<style scoped>\n",
       "    .dataframe tbody tr th:only-of-type {\n",
       "        vertical-align: middle;\n",
       "    }\n",
       "\n",
       "    .dataframe tbody tr th {\n",
       "        vertical-align: top;\n",
       "    }\n",
       "\n",
       "    .dataframe thead th {\n",
       "        text-align: right;\n",
       "    }\n",
       "</style>\n",
       "<table border=\"1\" class=\"dataframe\">\n",
       "  <thead>\n",
       "    <tr style=\"text-align: right;\">\n",
       "      <th></th>\n",
       "      <th>sl_no</th>\n",
       "      <th>ssc_p</th>\n",
       "      <th>hsc_p</th>\n",
       "      <th>degree_p</th>\n",
       "      <th>etest_p</th>\n",
       "      <th>mba_p</th>\n",
       "      <th>salary</th>\n",
       "      <th>status</th>\n",
       "      <th>degree_p_bins</th>\n",
       "      <th>gender_F</th>\n",
       "      <th>...</th>\n",
       "      <th>hsc_s_Science</th>\n",
       "      <th>degree_t_Comm&amp;Mgmt</th>\n",
       "      <th>degree_t_Others</th>\n",
       "      <th>degree_t_Sci&amp;Tech</th>\n",
       "      <th>workex_No</th>\n",
       "      <th>workex_Yes</th>\n",
       "      <th>specialisation_Mkt&amp;Fin</th>\n",
       "      <th>specialisation_Mkt&amp;HR</th>\n",
       "      <th>specialisation_Mt&amp;HR</th>\n",
       "      <th>status_encoded</th>\n",
       "    </tr>\n",
       "  </thead>\n",
       "  <tbody>\n",
       "    <tr>\n",
       "      <th>0</th>\n",
       "      <td>1</td>\n",
       "      <td>67.00</td>\n",
       "      <td>91.00</td>\n",
       "      <td>58.00</td>\n",
       "      <td>55.0</td>\n",
       "      <td>58.80</td>\n",
       "      <td>270000.0</td>\n",
       "      <td>Placed</td>\n",
       "      <td>(49.959, 58.2]</td>\n",
       "      <td>False</td>\n",
       "      <td>...</td>\n",
       "      <td>False</td>\n",
       "      <td>False</td>\n",
       "      <td>False</td>\n",
       "      <td>True</td>\n",
       "      <td>True</td>\n",
       "      <td>False</td>\n",
       "      <td>False</td>\n",
       "      <td>True</td>\n",
       "      <td>False</td>\n",
       "      <td>1</td>\n",
       "    </tr>\n",
       "    <tr>\n",
       "      <th>1</th>\n",
       "      <td>2</td>\n",
       "      <td>79.33</td>\n",
       "      <td>78.33</td>\n",
       "      <td>77.48</td>\n",
       "      <td>86.5</td>\n",
       "      <td>66.28</td>\n",
       "      <td>200000.0</td>\n",
       "      <td>Placed</td>\n",
       "      <td>(74.6, 82.8]</td>\n",
       "      <td>False</td>\n",
       "      <td>...</td>\n",
       "      <td>True</td>\n",
       "      <td>False</td>\n",
       "      <td>False</td>\n",
       "      <td>True</td>\n",
       "      <td>False</td>\n",
       "      <td>True</td>\n",
       "      <td>True</td>\n",
       "      <td>False</td>\n",
       "      <td>False</td>\n",
       "      <td>1</td>\n",
       "    </tr>\n",
       "    <tr>\n",
       "      <th>2</th>\n",
       "      <td>3</td>\n",
       "      <td>65.00</td>\n",
       "      <td>68.00</td>\n",
       "      <td>64.00</td>\n",
       "      <td>75.0</td>\n",
       "      <td>57.80</td>\n",
       "      <td>250000.0</td>\n",
       "      <td>Placed</td>\n",
       "      <td>(58.2, 66.4]</td>\n",
       "      <td>False</td>\n",
       "      <td>...</td>\n",
       "      <td>False</td>\n",
       "      <td>True</td>\n",
       "      <td>False</td>\n",
       "      <td>False</td>\n",
       "      <td>True</td>\n",
       "      <td>False</td>\n",
       "      <td>True</td>\n",
       "      <td>False</td>\n",
       "      <td>False</td>\n",
       "      <td>1</td>\n",
       "    </tr>\n",
       "    <tr>\n",
       "      <th>3</th>\n",
       "      <td>4</td>\n",
       "      <td>56.00</td>\n",
       "      <td>52.00</td>\n",
       "      <td>52.00</td>\n",
       "      <td>66.0</td>\n",
       "      <td>59.43</td>\n",
       "      <td>265000.0</td>\n",
       "      <td>Not Placed</td>\n",
       "      <td>(49.959, 58.2]</td>\n",
       "      <td>False</td>\n",
       "      <td>...</td>\n",
       "      <td>True</td>\n",
       "      <td>False</td>\n",
       "      <td>False</td>\n",
       "      <td>True</td>\n",
       "      <td>True</td>\n",
       "      <td>False</td>\n",
       "      <td>False</td>\n",
       "      <td>True</td>\n",
       "      <td>False</td>\n",
       "      <td>0</td>\n",
       "    </tr>\n",
       "    <tr>\n",
       "      <th>5</th>\n",
       "      <td>6</td>\n",
       "      <td>55.00</td>\n",
       "      <td>49.80</td>\n",
       "      <td>67.25</td>\n",
       "      <td>55.0</td>\n",
       "      <td>51.58</td>\n",
       "      <td>265000.0</td>\n",
       "      <td>Not Placed</td>\n",
       "      <td>(66.4, 74.6]</td>\n",
       "      <td>False</td>\n",
       "      <td>...</td>\n",
       "      <td>True</td>\n",
       "      <td>False</td>\n",
       "      <td>False</td>\n",
       "      <td>True</td>\n",
       "      <td>False</td>\n",
       "      <td>True</td>\n",
       "      <td>True</td>\n",
       "      <td>False</td>\n",
       "      <td>False</td>\n",
       "      <td>0</td>\n",
       "    </tr>\n",
       "  </tbody>\n",
       "</table>\n",
       "<p>5 rows × 27 columns</p>\n",
       "</div>"
      ],
      "text/plain": [
       "   sl_no  ssc_p  hsc_p  degree_p  etest_p  mba_p    salary      status  \\\n",
       "0      1  67.00  91.00     58.00     55.0  58.80  270000.0      Placed   \n",
       "1      2  79.33  78.33     77.48     86.5  66.28  200000.0      Placed   \n",
       "2      3  65.00  68.00     64.00     75.0  57.80  250000.0      Placed   \n",
       "3      4  56.00  52.00     52.00     66.0  59.43  265000.0  Not Placed   \n",
       "5      6  55.00  49.80     67.25     55.0  51.58  265000.0  Not Placed   \n",
       "\n",
       "    degree_p_bins  gender_F  ...  hsc_s_Science  degree_t_Comm&Mgmt  \\\n",
       "0  (49.959, 58.2]     False  ...          False               False   \n",
       "1    (74.6, 82.8]     False  ...           True               False   \n",
       "2    (58.2, 66.4]     False  ...          False                True   \n",
       "3  (49.959, 58.2]     False  ...           True               False   \n",
       "5    (66.4, 74.6]     False  ...           True               False   \n",
       "\n",
       "   degree_t_Others  degree_t_Sci&Tech  workex_No  workex_Yes  \\\n",
       "0            False               True       True       False   \n",
       "1            False               True      False        True   \n",
       "2            False              False       True       False   \n",
       "3            False               True       True       False   \n",
       "5            False               True      False        True   \n",
       "\n",
       "   specialisation_Mkt&Fin  specialisation_Mkt&HR  specialisation_Mt&HR  \\\n",
       "0                   False                   True                 False   \n",
       "1                    True                  False                 False   \n",
       "2                    True                  False                 False   \n",
       "3                   False                   True                 False   \n",
       "5                    True                  False                 False   \n",
       "\n",
       "   status_encoded  \n",
       "0               1  \n",
       "1               1  \n",
       "2               1  \n",
       "3               0  \n",
       "5               0  \n",
       "\n",
       "[5 rows x 27 columns]"
      ]
     },
     "execution_count": 27,
     "metadata": {},
     "output_type": "execute_result"
    }
   ],
   "source": [
    "# One-hot encoding for categorical variables\n",
    "df_cleaned1= pd.get_dummies(df_cleaned, columns=['gender', 'ssc_b', 'hsc_b', 'hsc_s', 'degree_t', 'workex', 'specialisation'])\n",
    "df_cleaned1['status_encoded'] = df_cleaned1['status'].apply(lambda x: 1 if x == 'Placed' else 0)\n",
    "\n",
    "df_cleaned1.head()"
   ]
  },
  {
   "cell_type": "code",
   "execution_count": 19,
   "id": "c174df2a-a817-45d1-93de-46bf4ee3088a",
   "metadata": {},
   "outputs": [],
   "source": [
    "X= df_cleaned1"
   ]
  },
  {
   "cell_type": "code",
   "execution_count": 28,
   "id": "55e709fd-26ff-4e05-8353-cee17f743b40",
   "metadata": {
    "scrolled": true
   },
   "outputs": [],
   "source": [
    "#create a variable to hold all data except the target\n",
    "X=  df_cleaned1.drop(['status', 'degree_p_bins','status_encoded'], axis=1)"
   ]
  },
  {
   "cell_type": "code",
   "execution_count": 29,
   "id": "c1b5c68f-d182-44e4-a9b0-1269f52248cd",
   "metadata": {},
   "outputs": [],
   "source": [
    "#create a variable to hold the target only\n",
    "y = df_cleaned1['status_encoded']"
   ]
  },
  {
   "cell_type": "code",
   "execution_count": 30,
   "id": "a0b2b082-7faa-44b7-8ecc-381bd999f8da",
   "metadata": {},
   "outputs": [],
   "source": [
    "lr= LogisticRegression()"
   ]
  },
  {
   "cell_type": "code",
   "execution_count": 31,
   "id": "205b4320-f28c-41ec-a549-37aa2e8ffe82",
   "metadata": {},
   "outputs": [
    {
     "name": "stderr",
     "output_type": "stream",
     "text": [
      "C:\\Users\\gioco\\anaconda3\\Lib\\site-packages\\sklearn\\linear_model\\_logistic.py:458: ConvergenceWarning: lbfgs failed to converge (status=1):\n",
      "STOP: TOTAL NO. of ITERATIONS REACHED LIMIT.\n",
      "\n",
      "Increase the number of iterations (max_iter) or scale the data as shown in:\n",
      "    https://scikit-learn.org/stable/modules/preprocessing.html\n",
      "Please also refer to the documentation for alternative solver options:\n",
      "    https://scikit-learn.org/stable/modules/linear_model.html#logistic-regression\n",
      "  n_iter_i = _check_optimize_result(\n"
     ]
    },
    {
     "data": {
      "text/html": [
       "<style>#sk-container-id-1 {color: black;background-color: white;}#sk-container-id-1 pre{padding: 0;}#sk-container-id-1 div.sk-toggleable {background-color: white;}#sk-container-id-1 label.sk-toggleable__label {cursor: pointer;display: block;width: 100%;margin-bottom: 0;padding: 0.3em;box-sizing: border-box;text-align: center;}#sk-container-id-1 label.sk-toggleable__label-arrow:before {content: \"▸\";float: left;margin-right: 0.25em;color: #696969;}#sk-container-id-1 label.sk-toggleable__label-arrow:hover:before {color: black;}#sk-container-id-1 div.sk-estimator:hover label.sk-toggleable__label-arrow:before {color: black;}#sk-container-id-1 div.sk-toggleable__content {max-height: 0;max-width: 0;overflow: hidden;text-align: left;background-color: #f0f8ff;}#sk-container-id-1 div.sk-toggleable__content pre {margin: 0.2em;color: black;border-radius: 0.25em;background-color: #f0f8ff;}#sk-container-id-1 input.sk-toggleable__control:checked~div.sk-toggleable__content {max-height: 200px;max-width: 100%;overflow: auto;}#sk-container-id-1 input.sk-toggleable__control:checked~label.sk-toggleable__label-arrow:before {content: \"▾\";}#sk-container-id-1 div.sk-estimator input.sk-toggleable__control:checked~label.sk-toggleable__label {background-color: #d4ebff;}#sk-container-id-1 div.sk-label input.sk-toggleable__control:checked~label.sk-toggleable__label {background-color: #d4ebff;}#sk-container-id-1 input.sk-hidden--visually {border: 0;clip: rect(1px 1px 1px 1px);clip: rect(1px, 1px, 1px, 1px);height: 1px;margin: -1px;overflow: hidden;padding: 0;position: absolute;width: 1px;}#sk-container-id-1 div.sk-estimator {font-family: monospace;background-color: #f0f8ff;border: 1px dotted black;border-radius: 0.25em;box-sizing: border-box;margin-bottom: 0.5em;}#sk-container-id-1 div.sk-estimator:hover {background-color: #d4ebff;}#sk-container-id-1 div.sk-parallel-item::after {content: \"\";width: 100%;border-bottom: 1px solid gray;flex-grow: 1;}#sk-container-id-1 div.sk-label:hover label.sk-toggleable__label {background-color: #d4ebff;}#sk-container-id-1 div.sk-serial::before {content: \"\";position: absolute;border-left: 1px solid gray;box-sizing: border-box;top: 0;bottom: 0;left: 50%;z-index: 0;}#sk-container-id-1 div.sk-serial {display: flex;flex-direction: column;align-items: center;background-color: white;padding-right: 0.2em;padding-left: 0.2em;position: relative;}#sk-container-id-1 div.sk-item {position: relative;z-index: 1;}#sk-container-id-1 div.sk-parallel {display: flex;align-items: stretch;justify-content: center;background-color: white;position: relative;}#sk-container-id-1 div.sk-item::before, #sk-container-id-1 div.sk-parallel-item::before {content: \"\";position: absolute;border-left: 1px solid gray;box-sizing: border-box;top: 0;bottom: 0;left: 50%;z-index: -1;}#sk-container-id-1 div.sk-parallel-item {display: flex;flex-direction: column;z-index: 1;position: relative;background-color: white;}#sk-container-id-1 div.sk-parallel-item:first-child::after {align-self: flex-end;width: 50%;}#sk-container-id-1 div.sk-parallel-item:last-child::after {align-self: flex-start;width: 50%;}#sk-container-id-1 div.sk-parallel-item:only-child::after {width: 0;}#sk-container-id-1 div.sk-dashed-wrapped {border: 1px dashed gray;margin: 0 0.4em 0.5em 0.4em;box-sizing: border-box;padding-bottom: 0.4em;background-color: white;}#sk-container-id-1 div.sk-label label {font-family: monospace;font-weight: bold;display: inline-block;line-height: 1.2em;}#sk-container-id-1 div.sk-label-container {text-align: center;}#sk-container-id-1 div.sk-container {/* jupyter's `normalize.less` sets `[hidden] { display: none; }` but bootstrap.min.css set `[hidden] { display: none !important; }` so we also need the `!important` here to be able to override the default hidden behavior on the sphinx rendered scikit-learn.org. See: https://github.com/scikit-learn/scikit-learn/issues/21755 */display: inline-block !important;position: relative;}#sk-container-id-1 div.sk-text-repr-fallback {display: none;}</style><div id=\"sk-container-id-1\" class=\"sk-top-container\"><div class=\"sk-text-repr-fallback\"><pre>LogisticRegression()</pre><b>In a Jupyter environment, please rerun this cell to show the HTML representation or trust the notebook. <br />On GitHub, the HTML representation is unable to render, please try loading this page with nbviewer.org.</b></div><div class=\"sk-container\" hidden><div class=\"sk-item\"><div class=\"sk-estimator sk-toggleable\"><input class=\"sk-toggleable__control sk-hidden--visually\" id=\"sk-estimator-id-1\" type=\"checkbox\" checked><label for=\"sk-estimator-id-1\" class=\"sk-toggleable__label sk-toggleable__label-arrow\">LogisticRegression</label><div class=\"sk-toggleable__content\"><pre>LogisticRegression()</pre></div></div></div></div></div>"
      ],
      "text/plain": [
       "LogisticRegression()"
      ]
     },
     "execution_count": 31,
     "metadata": {},
     "output_type": "execute_result"
    }
   ],
   "source": [
    "lr.fit(X,y)"
   ]
  },
  {
   "cell_type": "code",
   "execution_count": 32,
   "id": "ef6a9c97-dd89-46e0-824c-b45aab289ac8",
   "metadata": {},
   "outputs": [
    {
     "data": {
      "text/plain": [
       "0.8367346938775511"
      ]
     },
     "execution_count": 32,
     "metadata": {},
     "output_type": "execute_result"
    }
   ],
   "source": [
    "lr.score(X,y)"
   ]
  },
  {
   "cell_type": "code",
   "execution_count": 33,
   "id": "8ab0ac82-1613-4efa-b919-b62889476da5",
   "metadata": {},
   "outputs": [
    {
     "name": "stdout",
     "output_type": "stream",
     "text": [
      "[[ 45  22]\n",
      " [ 10 119]]\n"
     ]
    }
   ],
   "source": [
    "# confusion matrix \n",
    "pred = lr.predict(X)\n",
    "conf_matrix = metrics.confusion_matrix(y, pred)\n",
    "print(conf_matrix)"
   ]
  },
  {
   "cell_type": "code",
   "execution_count": 34,
   "id": "c2123a2c-b291-41d9-8845-fab0d14e24c5",
   "metadata": {},
   "outputs": [
    {
     "name": "stdout",
     "output_type": "stream",
     "text": [
      "            pred:yes  pred:no\n",
      "actual:yes        45       22\n",
      "actual:no         10      119\n"
     ]
    }
   ],
   "source": [
    "cmtx = pd.DataFrame(\n",
    "    metrics.confusion_matrix(y,pred),  \n",
    "    index=['actual:yes', 'actual:no'], \n",
    "    columns=['pred:yes', 'pred:no']\n",
    ")\n",
    "print(cmtx)"
   ]
  },
  {
   "cell_type": "code",
   "execution_count": 35,
   "id": "d1131012-d29a-4c0f-9282-1fa464d3cbb4",
   "metadata": {},
   "outputs": [],
   "source": [
    "# Splitting the data into training and test sets.\n",
    "X_train, X_test, y_train,y_test = train_test_split(X,y, test_size=.3, random_state=91)"
   ]
  },
  {
   "cell_type": "code",
   "execution_count": 36,
   "id": "43c9f6f2-7a5b-4e9f-85ea-63ab3f36718f",
   "metadata": {},
   "outputs": [
    {
     "data": {
      "text/plain": [
       "(137, 24)"
      ]
     },
     "execution_count": 36,
     "metadata": {},
     "output_type": "execute_result"
    }
   ],
   "source": [
    "X_train.shape"
   ]
  },
  {
   "cell_type": "code",
   "execution_count": 37,
   "id": "c9c304aa-9e51-4905-95d2-a3aa9f448a25",
   "metadata": {},
   "outputs": [
    {
     "data": {
      "text/plain": [
       "(137,)"
      ]
     },
     "execution_count": 37,
     "metadata": {},
     "output_type": "execute_result"
    }
   ],
   "source": [
    "y_train.shape"
   ]
  },
  {
   "cell_type": "code",
   "execution_count": 226,
   "id": "5ad0da6a-c4a1-4b0c-aaee-323a6cd129b4",
   "metadata": {},
   "outputs": [
    {
     "data": {
      "text/plain": [
       "(59, 24)"
      ]
     },
     "execution_count": 226,
     "metadata": {},
     "output_type": "execute_result"
    }
   ],
   "source": [
    "X_test.shape"
   ]
  },
  {
   "cell_type": "code",
   "execution_count": null,
   "id": "fd322ac4-4e82-47a9-8665-523638736523",
   "metadata": {},
   "outputs": [],
   "source": [
    "#TRAINSET"
   ]
  },
  {
   "cell_type": "code",
   "execution_count": 38,
   "id": "56512095-2aec-45ae-99f8-8fd932bddaa7",
   "metadata": {},
   "outputs": [
    {
     "name": "stderr",
     "output_type": "stream",
     "text": [
      "C:\\Users\\gioco\\anaconda3\\Lib\\site-packages\\sklearn\\linear_model\\_logistic.py:458: ConvergenceWarning: lbfgs failed to converge (status=1):\n",
      "STOP: TOTAL NO. of ITERATIONS REACHED LIMIT.\n",
      "\n",
      "Increase the number of iterations (max_iter) or scale the data as shown in:\n",
      "    https://scikit-learn.org/stable/modules/preprocessing.html\n",
      "Please also refer to the documentation for alternative solver options:\n",
      "    https://scikit-learn.org/stable/modules/linear_model.html#logistic-regression\n",
      "  n_iter_i = _check_optimize_result(\n"
     ]
    },
    {
     "data": {
      "text/html": [
       "<style>#sk-container-id-2 {color: black;background-color: white;}#sk-container-id-2 pre{padding: 0;}#sk-container-id-2 div.sk-toggleable {background-color: white;}#sk-container-id-2 label.sk-toggleable__label {cursor: pointer;display: block;width: 100%;margin-bottom: 0;padding: 0.3em;box-sizing: border-box;text-align: center;}#sk-container-id-2 label.sk-toggleable__label-arrow:before {content: \"▸\";float: left;margin-right: 0.25em;color: #696969;}#sk-container-id-2 label.sk-toggleable__label-arrow:hover:before {color: black;}#sk-container-id-2 div.sk-estimator:hover label.sk-toggleable__label-arrow:before {color: black;}#sk-container-id-2 div.sk-toggleable__content {max-height: 0;max-width: 0;overflow: hidden;text-align: left;background-color: #f0f8ff;}#sk-container-id-2 div.sk-toggleable__content pre {margin: 0.2em;color: black;border-radius: 0.25em;background-color: #f0f8ff;}#sk-container-id-2 input.sk-toggleable__control:checked~div.sk-toggleable__content {max-height: 200px;max-width: 100%;overflow: auto;}#sk-container-id-2 input.sk-toggleable__control:checked~label.sk-toggleable__label-arrow:before {content: \"▾\";}#sk-container-id-2 div.sk-estimator input.sk-toggleable__control:checked~label.sk-toggleable__label {background-color: #d4ebff;}#sk-container-id-2 div.sk-label input.sk-toggleable__control:checked~label.sk-toggleable__label {background-color: #d4ebff;}#sk-container-id-2 input.sk-hidden--visually {border: 0;clip: rect(1px 1px 1px 1px);clip: rect(1px, 1px, 1px, 1px);height: 1px;margin: -1px;overflow: hidden;padding: 0;position: absolute;width: 1px;}#sk-container-id-2 div.sk-estimator {font-family: monospace;background-color: #f0f8ff;border: 1px dotted black;border-radius: 0.25em;box-sizing: border-box;margin-bottom: 0.5em;}#sk-container-id-2 div.sk-estimator:hover {background-color: #d4ebff;}#sk-container-id-2 div.sk-parallel-item::after {content: \"\";width: 100%;border-bottom: 1px solid gray;flex-grow: 1;}#sk-container-id-2 div.sk-label:hover label.sk-toggleable__label {background-color: #d4ebff;}#sk-container-id-2 div.sk-serial::before {content: \"\";position: absolute;border-left: 1px solid gray;box-sizing: border-box;top: 0;bottom: 0;left: 50%;z-index: 0;}#sk-container-id-2 div.sk-serial {display: flex;flex-direction: column;align-items: center;background-color: white;padding-right: 0.2em;padding-left: 0.2em;position: relative;}#sk-container-id-2 div.sk-item {position: relative;z-index: 1;}#sk-container-id-2 div.sk-parallel {display: flex;align-items: stretch;justify-content: center;background-color: white;position: relative;}#sk-container-id-2 div.sk-item::before, #sk-container-id-2 div.sk-parallel-item::before {content: \"\";position: absolute;border-left: 1px solid gray;box-sizing: border-box;top: 0;bottom: 0;left: 50%;z-index: -1;}#sk-container-id-2 div.sk-parallel-item {display: flex;flex-direction: column;z-index: 1;position: relative;background-color: white;}#sk-container-id-2 div.sk-parallel-item:first-child::after {align-self: flex-end;width: 50%;}#sk-container-id-2 div.sk-parallel-item:last-child::after {align-self: flex-start;width: 50%;}#sk-container-id-2 div.sk-parallel-item:only-child::after {width: 0;}#sk-container-id-2 div.sk-dashed-wrapped {border: 1px dashed gray;margin: 0 0.4em 0.5em 0.4em;box-sizing: border-box;padding-bottom: 0.4em;background-color: white;}#sk-container-id-2 div.sk-label label {font-family: monospace;font-weight: bold;display: inline-block;line-height: 1.2em;}#sk-container-id-2 div.sk-label-container {text-align: center;}#sk-container-id-2 div.sk-container {/* jupyter's `normalize.less` sets `[hidden] { display: none; }` but bootstrap.min.css set `[hidden] { display: none !important; }` so we also need the `!important` here to be able to override the default hidden behavior on the sphinx rendered scikit-learn.org. See: https://github.com/scikit-learn/scikit-learn/issues/21755 */display: inline-block !important;position: relative;}#sk-container-id-2 div.sk-text-repr-fallback {display: none;}</style><div id=\"sk-container-id-2\" class=\"sk-top-container\"><div class=\"sk-text-repr-fallback\"><pre>LogisticRegression()</pre><b>In a Jupyter environment, please rerun this cell to show the HTML representation or trust the notebook. <br />On GitHub, the HTML representation is unable to render, please try loading this page with nbviewer.org.</b></div><div class=\"sk-container\" hidden><div class=\"sk-item\"><div class=\"sk-estimator sk-toggleable\"><input class=\"sk-toggleable__control sk-hidden--visually\" id=\"sk-estimator-id-2\" type=\"checkbox\" checked><label for=\"sk-estimator-id-2\" class=\"sk-toggleable__label sk-toggleable__label-arrow\">LogisticRegression</label><div class=\"sk-toggleable__content\"><pre>LogisticRegression()</pre></div></div></div></div></div>"
      ],
      "text/plain": [
       "LogisticRegression()"
      ]
     },
     "execution_count": 38,
     "metadata": {},
     "output_type": "execute_result"
    }
   ],
   "source": [
    "lr.fit(X_train,y_train)"
   ]
  },
  {
   "cell_type": "code",
   "execution_count": 39,
   "id": "35bf75f6-d94c-4cca-bd17-95626ce1b20a",
   "metadata": {},
   "outputs": [
    {
     "data": {
      "text/plain": [
       "0.8321167883211679"
      ]
     },
     "execution_count": 39,
     "metadata": {},
     "output_type": "execute_result"
    }
   ],
   "source": [
    "lr.score(X_train,y_train)"
   ]
  },
  {
   "cell_type": "code",
   "execution_count": 40,
   "id": "a96698ee-cbda-477a-bec8-cce50111c4d5",
   "metadata": {},
   "outputs": [],
   "source": [
    "pred_train = lr.predict(X_train)"
   ]
  },
  {
   "cell_type": "code",
   "execution_count": 41,
   "id": "e2816a65-11e3-4069-acd4-f6d3abc0f029",
   "metadata": {},
   "outputs": [
    {
     "name": "stdout",
     "output_type": "stream",
     "text": [
      "            pred:yes  pred:no\n",
      "actual:yes        26       16\n",
      "actual:no          7       88\n"
     ]
    }
   ],
   "source": [
    "# Show a confusion matrix for both.\n",
    "cmtx = pd.DataFrame(\n",
    "    metrics.confusion_matrix(y_train,pred_train),  \n",
    "    index=['actual:yes', 'actual:no'], \n",
    "    columns=['pred:yes', 'pred:no']\n",
    ")\n",
    "print(cmtx)"
   ]
  },
  {
   "cell_type": "code",
   "execution_count": null,
   "id": "d18a1224-a212-4cf5-a913-157b8fa670ce",
   "metadata": {},
   "outputs": [],
   "source": [
    "#TESTSET"
   ]
  },
  {
   "cell_type": "code",
   "execution_count": 42,
   "id": "2e71c02e-746a-4ef8-8345-097a84aaa883",
   "metadata": {},
   "outputs": [
    {
     "data": {
      "text/plain": [
       "0.8305084745762712"
      ]
     },
     "execution_count": 42,
     "metadata": {},
     "output_type": "execute_result"
    }
   ],
   "source": [
    "lr.score(X_test,y_test)"
   ]
  },
  {
   "cell_type": "code",
   "execution_count": 43,
   "id": "b7359998-61f9-46fd-ba1f-093c68f01ba3",
   "metadata": {},
   "outputs": [],
   "source": [
    "pred_test = lr.predict(X_test)"
   ]
  },
  {
   "cell_type": "code",
   "execution_count": 44,
   "id": "8cef6271-f796-42a7-a5cd-d3b9c3d64287",
   "metadata": {},
   "outputs": [
    {
     "name": "stdout",
     "output_type": "stream",
     "text": [
      "            pred:yes  pred:no\n",
      "actual:yes        17        8\n",
      "actual:no          2       32\n"
     ]
    }
   ],
   "source": [
    "cmtx = pd.DataFrame(\n",
    "    metrics.confusion_matrix(y_test,pred_test),  \n",
    "    index=['actual:yes', 'actual:no'], \n",
    "    columns=['pred:yes', 'pred:no']\n",
    ")\n",
    "print(cmtx)"
   ]
  },
  {
   "cell_type": "code",
   "execution_count": null,
   "id": "3b080fa4-11db-47c1-aeb0-00df111e3fa6",
   "metadata": {},
   "outputs": [],
   "source": [
    "#the end :)"
   ]
  }
 ],
 "metadata": {
  "kernelspec": {
   "display_name": "Python 3 (ipykernel)",
   "language": "python",
   "name": "python3"
  },
  "language_info": {
   "codemirror_mode": {
    "name": "ipython",
    "version": 3
   },
   "file_extension": ".py",
   "mimetype": "text/x-python",
   "name": "python",
   "nbconvert_exporter": "python",
   "pygments_lexer": "ipython3",
   "version": "3.11.7"
  }
 },
 "nbformat": 4,
 "nbformat_minor": 5
}
